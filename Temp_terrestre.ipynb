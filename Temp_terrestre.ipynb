{
 "cells": [
  {
   "cell_type": "markdown",
   "metadata": {},
   "source": [
    "# Ejercicio 9.4: Difusión Termica en la corteza terrestre\n",
    "\n",
    "Un ejemplo clásico de un problema de difusión con condiciones de frontera varibles en el tiempo es la difusión del calor en la corteza de la Tierra, como la temperatura de la superficie varía con las temporadas. Suponga que la temperatura media diaria en un punto particular de la superficie varía como:\n",
    "\n",
    "$$T_{0}(t)=A+Bsin\\frac{2\\pi t}{\\tau }$$\n",
    "\n",
    "donde $\\tau =365dias$, $A=10^{\\circ}C$ y $B=12^{\\circ}C$. En la profundidad de $20m$ debajo de la superficie al menos toda la variación de temperatura anual es subsanada y la temperatura es, en una buena aproximación, un constante $11^{\\circ}C$ (el cual es mayor que la temperatura media de la superficie de $10^{\\circ}C$ -la temperatura aumenta con la profundidad, debido a el calentamiento del núcleo caliente del planta). La difusividad térmica de la corteza de la Tierra varía algo de lugar a lugar, pero para nuestro proposito la trataremos como una constante con el valor $D=0.1m^{2}dia^{-1}$.\n",
    "\n",
    "Escriba un programa, o modifique uno de los dados en este capítulo, para calcular el perfil de temperatura de la corteza como una función de la profundidad a $20m$ y tiempo a $10 años$. Empiece con la temperatura en todos lados igual a $10^{\\circ}C$, excepto en la superficie y el punto más profundo, escoja valores para el número de puntos de malla y el paso de tiempo, entonces corra su programa para los primeros nueve años simulados, para permitir que se establezca en cualquier patrón que alcance. Entonces para el decimo y final año imprima cuatro temperaturas tomadas un intervalo de 3 meses en una sola gráfica para ilustrar como la temperatura cambia como una función de la profundidad y el tiempo."
   ]
  },
  {
   "cell_type": "code",
   "execution_count": 7,
   "metadata": {
    "scrolled": true
   },
   "outputs": [
    {
     "data": {
      "image/png": "[encoded data removed]",
      "text/plain": [
       "<matplotlib.figure.Figure at 0x7fc79b6c9080>"
      ]
     },
     "metadata": {
      "needs_background": "light"
     },
     "output_type": "display_data"
    }
   ],
   "source": [
    "import numpy as np\n",
    "from numpy import empty\n",
    "from pylab import plot,xlabel,ylabel,show,sin\n",
    "from math import pi\n",
    "import matplotlib.pyplot as plt\n",
    "\n",
    "\n",
    "###### Constantes ######\n",
    "L = 20  #Profundidad\n",
    "D = 0.1 #Difusividad Termica\n",
    "N = 20  #Número de pasos\n",
    "a = L/N\n",
    "h = 0.01 # Dimensión temporal\n",
    "epsilon = h/100 \n",
    "########################\n",
    "\n",
    "\n",
    "###### Solución de la ecuación ######\n",
    "A = 10 # Condición inicial\n",
    "B = 12 # Condición inicial\n",
    "tau = 365\n",
    "def T0(t):\n",
    "    return A + B*sin(2*pi*t/tau)\n",
    "#####################################\n",
    "\n",
    "\n",
    "###### Tiempo en los cuales se evalua la solución ######\n",
    "tmin = 365*9\n",
    "t1 = tmin\n",
    "t2 = tmin + 90\n",
    "t3 = t2 + 90\n",
    "t4 = t3 + 90\n",
    "tend = t4 + epsilon\n",
    "########################################################\n",
    "\n",
    "\n",
    "###### Arreglos para las soluciones ######\n",
    "T = empty(N+1,float)\n",
    "T[1:N] = 10\n",
    "Tp = empty(N+1,float)\n",
    "##########################################\n",
    "\n",
    "\n",
    "###### Ciclo Principal ######\n",
    "\n",
    "t = 0.0 # vr inicial\n",
    "c = h*D/(a*a) # término que estabiliza la solución \n",
    "############################# \n",
    "\n",
    "\n",
    "###### Ciclo que calcula los nuevos valores de T ######\n",
    "while t<tend:\n",
    "    T[0] = T0(t)\n",
    "    T[N] = 11\n",
    "    for i in range (1,N):\n",
    "        Tp[i] = T[i] + c*(T[i+1]+T[i-1]-2*T[i])\n",
    "    T,Tp = Tp,T\n",
    "    t += h\n",
    "#######################################################\n",
    "\n",
    "    \n",
    "###### Hacer grafico en los tiempos dados ######\n",
    "    if abs(t-t1)<epsilon:\n",
    "        plot(T)\n",
    "    if abs(t-t2)<epsilon:\n",
    "        plot(T)\n",
    "    if abs(t-t3)<epsilon:\n",
    "        plot(T)\n",
    "    if abs(t-t4)<epsilon:\n",
    "        plot(T)\n",
    "################################################\n",
    "\n",
    "        \n",
    "###### Arreglo de la gráfca ######        \n",
    "xlabel(\"Profundidad\")\n",
    "ylabel(\"T\")\n",
    "x = [0,5,10,15,20]\n",
    "plt.xticks(x)\n",
    "plt.ylim((6,15))\n",
    "y = [6,10,14]\n",
    "plt.yticks(y)\n",
    "plt.show()\n",
    "##################################"
   ]
  },
  {
   "cell_type": "code",
   "execution_count": null,
   "metadata": {},
   "outputs": [],
   "source": [
    "# La gráfica anterior muestra el comportamiento que tiene la temperatura de la corteza terrestre \n",
    "# a medida que aumenta la profundidad, esta relación se da en la evolución del tiempo. Por otro la \n",
    "# representación está dada para un año en intervalor de 3 meses, cada una de la lineas representa dicho \n",
    "# comportamiento, siendo la azul la del primer trimestre, la amarilla es para el sugundo trimestre, la verde\n",
    "# para el tercer trimestre y la roja representa el cuarto y último trimestre."
   ]
  }
 ],
 "metadata": {
  "kernelspec": {
   "display_name": "Python 3",
   "language": "python",
   "name": "python3"
  },
  "language_info": {
   "codemirror_mode": {
    "name": "ipython",
    "version": 3
   },
   "file_extension": ".py",
   "mimetype": "text/x-python",
   "name": "python",
   "nbconvert_exporter": "python",
   "pygments_lexer": "ipython3",
   "version": "3.6.9"
  }
 },
 "nbformat": 4,
 "nbformat_minor": 2
}
